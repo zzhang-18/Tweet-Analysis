{
 "metadata": {
  "language_info": {
   "codemirror_mode": {
    "name": "ipython",
    "version": 3
   },
   "file_extension": ".py",
   "mimetype": "text/x-python",
   "name": "python",
   "nbconvert_exporter": "python",
   "pygments_lexer": "ipython3",
   "version": "3.8.3-final"
  },
  "orig_nbformat": 2,
  "kernelspec": {
   "name": "Python 3.8.3 64-bit (conda)",
   "display_name": "Python 3.8.3 64-bit (conda)",
   "metadata": {
    "interpreter": {
     "hash": "b3ba2566441a7c06988d0923437866b63cedc61552a5af99d1f4fb67d367b25f"
    }
   }
  }
 },
 "nbformat": 4,
 "nbformat_minor": 2,
 "cells": [
  {
   "cell_type": "code",
   "execution_count": 12,
   "metadata": {},
   "outputs": [],
   "source": [
    "import csv, time"
   ]
  },
  {
   "cell_type": "code",
   "execution_count": 13,
   "metadata": {},
   "outputs": [],
   "source": [
    "covid = \"2019ncov, 2019-ncov, hcov-19, hcov 19, covid, sarscov2, sars-cov, epidemi, pandemic, disease, outbreak, infection, flatten the curve, ventilator,stay home, stayhome, stay at home order, stay-at-home order, quarantine, lockdown, distanc, 6 feet apart, six feet apart, mask, vaccine, test, trace, tracing, hand washing, wash hand,positivity, aerosol, rate of positive, positive rate, % positive, percent positive, asymptomatic, r0, reproduction number, n95, respirator, fauci, birx, cdc\"\n",
    "econ = \" employment, economy, jobs, business, stock market\"\n",
    "home = \"stay at home order, stay-at-home order, stay home, stayhome, quarantine, lockdown, distanc\"\n",
    "mask = \"mask\"\n",
    "vaccine = \"vaccine\"\n",
    "test = \"test, trace, tracing\"\n",
    "solution = \"stay at home order, stay-at-home order, stay home, stayhome, quarantine, lockdown, distanc, 6 feet apart, six feet apart, mask, vaccine, test, trace, tracing, hand washing, wash hand\"\n",
    "tech = \"positivity, aerosol, rate of positive, test positive rate, % positive, percent positive, asymptomatic, R0, reproduction number, sarscov2, sars-cov, N95, respirator\"\n"
   ]
  },
  {
   "cell_type": "code",
   "execution_count": 18,
   "metadata": {},
   "outputs": [],
   "source": [
    "l = [' dies', ' die', ' died', 'dead', 'death','dying','coffin'] #death\n",
    "output_file = \"Death.csv\""
   ]
  },
  {
   "cell_type": "code",
   "execution_count": 16,
   "metadata": {},
   "outputs": [
    {
     "output_type": "execute_result",
     "data": {
      "text/plain": [
       "['business', 'economy', 'employment', 'jobs', 'stock market']"
      ]
     },
     "metadata": {},
     "execution_count": 16
    }
   ],
   "source": [
    "output_file = \"Econ.csv\"\n",
    "string = econ\n",
    "string=string.lower()\n",
    "l = string.split(',')\n",
    "l = [x[1:] if x[0]==' ' else x for x in l]\n",
    "l = sorted(l)\n",
    "l"
   ]
  },
  {
   "cell_type": "code",
   "execution_count": 19,
   "metadata": {},
   "outputs": [
    {
     "output_type": "execute_result",
     "data": {
      "text/plain": [
       "[' dies', ' die', ' died', 'dead', 'death', 'dying', 'coffin']"
      ]
     },
     "metadata": {},
     "execution_count": 19
    }
   ],
   "source": [
    "l"
   ]
  },
  {
   "cell_type": "code",
   "execution_count": 20,
   "metadata": {},
   "outputs": [
    {
     "output_type": "stream",
     "name": "stdout",
     "text": [
      "#0 #0\n",
      "<NC_Governor>#1315 #57\n",
      "<GovAbbott>#453 #3\n",
      "<GovAndyBeshear>#1634 #45\n",
      "<GovLauraKelly>#669 #14\n",
      "<GovRonDeSantis>#757 #3\n",
      "<GovWhitmer>#497 #15\n",
      "<WVGovernor>#912 #4\n",
      "<GovMurphy>#5085 #322\n",
      "<JohnCarneyDE>#1035 #12\n",
      "<DougBurgum>#481 #5\n",
      "<GovTimWalz>#846 #20\n",
      "<LouisianaGov>#1784 #44\n",
      "<GovStitt>#782 #6\n",
      "<govkristinoem>#747 #7\n",
      "<GovInslee>#1193 #32\n",
      "<GovDunleavy>#413 #15\n",
      "<NYGovCuomo>#1991 #47\n",
      "<dougducey>#2484 #13\n",
      "<GovMLG>#1500 #231\n",
      "<GovernorTomWolf>#1233 #41\n",
      "<GovNedLamont>#1877 #224\n",
      "<GovMikeDeWine>#4577 #138\n",
      "<tatereeves>#615 #23\n",
      "<GovLarryHogan>#1442 #30\n",
      "<GovSisolak>#2311 #30\n",
      "<IAGovernor>#434 #0\n",
      "<GovChrisSununu>#1309 #9\n",
      "<GovParsonMO>#2743 #32\n",
      "<GovHerbert>#680 #11\n",
      "<GovBillLee>#950 #14\n",
      "<MassGovernor>#751 #4\n",
      "<henrymcmaster>#336 #5\n",
      "<GovPhilScott>#793 #18\n",
      "<GovernorGordon>#318 #11\n",
      "<AsaHutchinson>#897 #8\n",
      "<OregonGovBrown>#968 #21\n",
      "<GovKemp>#1088 #12\n",
      "<GovRicketts>#807 #9\n",
      "<GovJanetMills>#262 #7\n",
      "<GovHawaii>#697 #37\n",
      "<GovEvers>#961 #25\n",
      "<GovernorVA>#909 #13\n",
      "<GovernorKayIvey>#900 #15\n",
      "<GavinNewsom>#785 #18\n",
      "<JBPritzker>#80 #3\n",
      "<GovernorBullock>#606 #20\n",
      "<GovernorLittle>#428 #5\n",
      "<GovRaimondo>#779 #7\n",
      "<GovHolcomb>#1158 #19\n",
      "56552\n",
      "<NC_Governor>0.04334600760456274\n",
      "<GovAbbott>0.006622516556291391\n",
      "<GovAndyBeshear>0.027539779681762546\n",
      "<GovLauraKelly>0.02092675635276532\n",
      "<GovRonDeSantis>0.003963011889035667\n",
      "<GovWhitmer>0.030181086519114688\n",
      "<WVGovernor>0.0043859649122807015\n",
      "<GovMurphy>0.06332350049164208\n",
      "<JohnCarneyDE>0.011594202898550725\n",
      "<DougBurgum>0.010395010395010396\n",
      "<GovTimWalz>0.02364066193853428\n",
      "<LouisianaGov>0.02466367713004484\n",
      "<GovStitt>0.0076726342710997444\n",
      "<govkristinoem>0.009370816599732263\n",
      "<GovInslee>0.026823134953897737\n",
      "<GovDunleavy>0.03631961259079903\n",
      "<NYGovCuomo>0.023606228026117528\n",
      "<dougducey>0.005233494363929146\n",
      "<GovMLG>0.154\n",
      "<GovernorTomWolf>0.0332522303325223\n",
      "<GovNedLamont>0.11933937133724028\n",
      "<GovMikeDeWine>0.03015075376884422\n",
      "<tatereeves>0.03739837398373984\n",
      "<GovLarryHogan>0.020804438280166437\n",
      "<GovSisolak>0.012981393336218087\n",
      "<IAGovernor>0.0\n",
      "<GovChrisSununu>0.006875477463712758\n",
      "<GovParsonMO>0.011666059059423988\n",
      "<GovHerbert>0.016176470588235296\n",
      "<GovBillLee>0.014736842105263158\n",
      "<MassGovernor>0.005326231691078562\n",
      "<henrymcmaster>0.01488095238095238\n",
      "<GovPhilScott>0.02269861286254729\n",
      "<GovernorGordon>0.03459119496855346\n",
      "<AsaHutchinson>0.008918617614269788\n",
      "<OregonGovBrown>0.02169421487603306\n",
      "<GovKemp>0.011029411764705883\n",
      "<GovRicketts>0.011152416356877323\n",
      "<GovJanetMills>0.026717557251908396\n",
      "<GovHawaii>0.05308464849354376\n",
      "<GovEvers>0.026014568158168574\n",
      "<GovernorVA>0.014301430143014302\n",
      "<GovernorKayIvey>0.016666666666666666\n",
      "<GavinNewsom>0.022929936305732482\n",
      "<JBPritzker>0.0375\n",
      "<GovernorBullock>0.033003300330033\n",
      "<GovernorLittle>0.011682242990654205\n",
      "<GovRaimondo>0.008985879332477536\n",
      "<GovHolcomb>0.016407599309153715\n",
      "<GovofCO>0.03214285714285714\n"
     ]
    }
   ],
   "source": [
    "keyword_set = set(l)\n",
    "dict = {}\n",
    "counter = 0\n",
    "with open(\"GovernorScraped.csv\", mode='r', newline='',encoding='utf-16') as file:\n",
    "        reader = csv.reader(file)\n",
    "        next(reader)\n",
    "        current_usr = ''\n",
    "        numtweet = 0\n",
    "        covidtweet = 0\n",
    "        for row in reader:\n",
    "            if(row[0][0] != '<'):\n",
    "                continue\n",
    "            counter += 1\n",
    "            if current_usr != row[0]:\n",
    "                dict[current_usr] = (numtweet, covidtweet)\n",
    "                print(current_usr + \"#\" + str(numtweet) + \" \" + \"#\" + str(covidtweet))\n",
    "                numtweet = 0\n",
    "                covidtweet = 0\n",
    "                current_usr = row[0]\n",
    "            tweet = row[2].lower()\n",
    "            numtweet += 1\n",
    "            for word in keyword_set:\n",
    "                if word in tweet:\n",
    "                    covidtweet += 1\n",
    "                    break\n",
    "dict[current_usr] = (numtweet,covidtweet)\n",
    "print(counter)\n",
    "del dict['']\n",
    "len(dict)\n",
    "dict\n",
    "analysis = []\n",
    "for usr, pair in dict.items():\n",
    "    ratio = pair[1]/pair[0]\n",
    "    print(usr + str(ratio))\n",
    "    analysis.append([usr,ratio,pair[1],pair[0]])\n",
    "with open(output_file, mode='w', newline='', encoding='utf-8') as file:\n",
    "    writer = csv.writer(file)\n",
    "    writer.writerow(['Username','Ratio','#' ,'total#'])\n",
    "    for pair in analysis:\n",
    "        line = [pair[0], pair[1], pair[2], pair[3]]\n",
    "        writer.writerow(line)\n",
    "file.close()"
   ]
  },
  {
   "cell_type": "code",
   "execution_count": 17,
   "metadata": {},
   "outputs": [],
   "source": [
    "keyword_set = set(l)\n",
    "dict = {}\n",
    "counter = 0\n",
    "with open(\"doctorFinalTweet.csv\", mode='r', newline='', encoding=\"utf-16\") as file:\n",
    "    with open('doctorCovidTweets.csv', mode='w', newline='', encoding='utf-16') as f:\n",
    "\n",
    "        reader = csv.reader(file)\n",
    "        writer = csv.writer(f)\n",
    "\n",
    "        writer.writerow(['Username','Tweet','Date'])\n",
    "\n",
    "        for row in reader:\n",
    "            tweet = row[2].lower()\n",
    "            for word in keyword_set:\n",
    "                if word in tweet:\n",
    "                    line = [row[0], row[2], row[3]]\n",
    "                    writer.writerow(line)\n",
    "                    break"
   ]
  },
  {
   "cell_type": "code",
   "execution_count": 20,
   "metadata": {},
   "outputs": [
    {
     "output_type": "stream",
     "name": "stdout",
     "text": [
      "23721\n"
     ]
    }
   ],
   "source": [
    "keyword_set = set(l)\n",
    "dict = {}\n",
    "counter = 0\n",
    "with open(\"GovernorScraped.csv\", mode='r', newline='', encoding=\"utf-16\") as file:\n",
    "    with open('GovernorCovidTweets.csv', mode='w', newline='', encoding='utf-8') as f:\n",
    "\n",
    "        reader = csv.reader(file)\n",
    "        writer = csv.writer(f)\n",
    "        writer.writerow(['Username','Tweet','Date'])\n",
    "\n",
    "        for row in reader:\n",
    "            tweet = row[2].lower()\n",
    "            for word in keyword_set:\n",
    "                if word in tweet:\n",
    "                    counter+=1\n",
    "                    line = [row[0], row[2], row[3]]\n",
    "                    writer.writerow(line)\n",
    "                    break\n",
    "print(counter)"
   ]
  },
  {
   "cell_type": "code",
   "execution_count": null,
   "metadata": {},
   "outputs": [],
   "source": []
  }
 ]
}